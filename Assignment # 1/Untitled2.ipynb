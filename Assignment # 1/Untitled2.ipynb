{
 "cells": [
  {
   "cell_type": "code",
   "execution_count": 1,
   "id": "7f9998e6",
   "metadata": {},
   "outputs": [
    {
     "name": "stdout",
     "output_type": "stream",
     "text": [
      "Input the radius of the circle : 8\n",
      "The area of the circle with radius 8.0 is: 201.06192982974676\n"
     ]
    }
   ],
   "source": [
    "# import math module\n",
    "from math import pi\n",
    "\n",
    "# take input from user\n",
    "radius = float(input (\"Input the radius of the circle : \"))\n",
    "\n",
    "# compute the area from radius of a circle given by user\n",
    "calculateArea = str(pi * radius**2);\n",
    "\n",
    "#print result\n",
    "print (\"The area of the circle with radius \" + str(radius) + \" is: \" + calculateArea)"
   ]
  },
  {
   "cell_type": "code",
   "execution_count": 2,
   "id": "06c5a562",
   "metadata": {},
   "outputs": [
    {
     "name": "stdout",
     "output_type": "stream",
     "text": [
      "Input your First Name : Abdul\n",
      "Input your Last Name : Mueez\n",
      "Mueez Abdul\n"
     ]
    }
   ],
   "source": [
    "firstname = input(\"Input your First Name : \")\n",
    "lastname = input(\"Input your Last Name : \")\n",
    "print ( lastname + \" \" + firstname)"
   ]
  },
  {
   "cell_type": "code",
   "execution_count": 3,
   "id": "bdcaf1cc",
   "metadata": {},
   "outputs": [
    {
     "name": "stdout",
     "output_type": "stream",
     "text": [
      "Today's date: 2022-01-01\n"
     ]
    }
   ],
   "source": [
    "from datetime import date\n",
    "\n",
    "today = date.today()\n",
    "print(\"Today's date:\", today)"
   ]
  },
  {
   "cell_type": "code",
   "execution_count": 21,
   "id": "3b082e3b",
   "metadata": {},
   "outputs": [],
   "source": [
    "# This program adds two numbers\n",
    "\n",
    "num1 = 1.5\n",
    "num2 = 6.3\n",
    "\n",
    "# Add two numbers\n",
    "sum =num1 + num2"
   ]
  },
  {
   "cell_type": "code",
   "execution_count": 22,
   "id": "3930d6cb",
   "metadata": {},
   "outputs": [],
   "source": [
    "# This program adds two numbers\n",
    "\n",
    "num1 = 1.5\n",
    "num2 = 6.3\n",
    "\n"
   ]
  },
  {
   "cell_type": "code",
   "execution_count": 34,
   "id": "a1dbe5eb",
   "metadata": {},
   "outputs": [],
   "source": [
    "# This program adds two numbers\n",
    "\n",
    "num1 = 1.5\n",
    "num2 = 6.3\n",
    "sum = num1 + num2"
   ]
  },
  {
   "cell_type": "code",
   "execution_count": 36,
   "id": "684d9720",
   "metadata": {},
   "outputs": [
    {
     "name": "stdout",
     "output_type": "stream",
     "text": [
      "Enter first number: 10\n",
      "Enter second number: 20\n"
     ]
    }
   ],
   "source": [
    "num1 = input('Enter first number: ')\n",
    "num2 = input('Enter second number: ')\n",
    "\n",
    "# Add two numbers\n",
    "sum = float(num1) + float(num2)"
   ]
  },
  {
   "cell_type": "code",
   "execution_count": 37,
   "id": "b27e9dd0",
   "metadata": {},
   "outputs": [
    {
     "name": "stdout",
     "output_type": "stream",
     "text": [
      "Sum of 15 and 12 is 27\n"
     ]
    }
   ],
   "source": [
    "num1 = 15\n",
    "num2 = 12\n",
    "  \n",
    "# Adding two nos\n",
    "sum = num1 + num2\n",
    "  \n",
    "# printing values\n",
    "print(\"Sum of {0} and {1} is {2}\" .format(num1, num2, sum))"
   ]
  },
  {
   "cell_type": "code",
   "execution_count": 38,
   "id": "bbe4680e",
   "metadata": {},
   "outputs": [
    {
     "name": "stdout",
     "output_type": "stream",
     "text": [
      "Sum of 15 and 12 is 27\n"
     ]
    }
   ],
   "source": [
    "# Python3 program to add two numbers\n",
    "\n",
    "num1 = 15\n",
    "num2 = 12\n",
    "\n",
    "# Adding two nos\n",
    "sum = num1 + num2\n",
    "\n",
    "# printing values\n",
    "print(\"Sum of {0} and {1} is {2}\" .format(num1, num2, sum))\n"
   ]
  },
  {
   "cell_type": "code",
   "execution_count": 41,
   "id": "6165a0e8",
   "metadata": {},
   "outputs": [
    {
     "name": "stdout",
     "output_type": "stream",
     "text": [
      "           Twinkle, twinkle, little star,\n",
      "                         How I wonder what you are!\n",
      "                                      Up above the world so high,\n",
      "                                      Like a diamond in the sky.\n",
      "           Twinkle, twinkle, little star,\n",
      "                         How I wonder what you are\n"
     ]
    }
   ],
   "source": [
    "print(\"           Twinkle, twinkle, little star,\")\n",
    "print(\"                         How I wonder what you are!\")\n",
    "print(\"                                      Up above the world so high,\")\n",
    "print(\"                                      Like a diamond in the sky.\")\n",
    "print(\"           Twinkle, twinkle, little star,\")\n",
    "print(\"                         How I wonder what you are\")"
   ]
  },
  {
   "cell_type": "code",
   "execution_count": null,
   "id": "033074c6",
   "metadata": {},
   "outputs": [],
   "source": []
  }
 ],
 "metadata": {
  "kernelspec": {
   "display_name": "Python 3 (ipykernel)",
   "language": "python",
   "name": "python3"
  },
  "language_info": {
   "codemirror_mode": {
    "name": "ipython",
    "version": 3
   },
   "file_extension": ".py",
   "mimetype": "text/x-python",
   "name": "python",
   "nbconvert_exporter": "python",
   "pygments_lexer": "ipython3",
   "version": "3.9.7"
  }
 },
 "nbformat": 4,
 "nbformat_minor": 5
}
